{
 "cells": [
  {
   "cell_type": "markdown",
   "metadata": {},
   "source": [
    "# Introduction to Jupyter\n",
    "\n",
    "## What is [Jupyter](http://jupyter.org/) ([git](https://github.com/jupyter/notebook)) and what has it to do with Python?\n",
    "\n",
    "> Project Jupyter was born out of the IPython Project in 2014 as it evolved to support interactive data science and scientific computing across all programming languages.\n",
    "\n",
    "* Formerly called \"IPython Notebook\"\n",
    "* has been [split](http://blog.jupyter.org/2015/04/15/the-big-split/) from python and runs [other languages](https://github.com/ipython/ipython/wiki/IPython-kernels-for-other-languages) now \n",
    "* example: [matlab in Jupyter](http://nbviewer.jupyter.org/github/Calysto/matlab_kernel/blob/master/matlab_kernel.ipynb)\n",
    "* provides a layer to execute programming code from a Mathematica-like Notebook environment \n",
    "* runs in the browser\n",
    "* result of the code is directly attached to the code that generated it\n",
    "* commenting with [Markdown](https://github.com/adam-p/markdown-here/wiki/Markdown-Cheatsheet#links) syntax\n",
    "* can in principle also embed arbitrary html code\n",
    "* functionality can be extended with [notebook-extensions](https://github.com/ipython-contrib/IPython-notebook-extensions) such as table-of-contents, split-cell, [spell-checking](http://www.simulkade.com/posts/2015-04-07-spell-checking-in-jupyter-notebooks.html)\n",
    "* some extensions accessible from a [local overview page](http://localhost:8888/nbextensions)\n",
    "* received founding for at least three years ($6M) and has big-name [sponsors](http://jupyter.org/about.html) (will hopefully make it not vanish suddenly)\n",
    "* plenty of [tutorials](http://nbviewer.jupyter.org/gist/rpmuller/5920182)\n",
    "\n",
    "More on the [jupyter website](https://ipython.org/ipython-doc/3/notebook/notebook.html#main-features-of-the-web-application).\n",
    "\n",
    "## (Some) downsides\n",
    "\n",
    "* not fully developed, yet\n",
    "* changes may come unexpectedly but apart from \"the big split\" do not break things\n"
   ]
  },
  {
   "cell_type": "markdown",
   "metadata": {
    "format": "row"
   },
   "source": [
    "## Cell types\n",
    "\n",
    "There are two basic cell types: Markdown cells and code cells.\n",
    "You can get help and a list of shortcuts by pressing \"h\" while in *command mode* (what is is this? --> press h). If it does not work, press ESC a couple of times and then \"h\". Once on the page you understand why."
   ]
  },
  {
   "cell_type": "code",
   "execution_count": 5,
   "metadata": {
    "collapsed": false
   },
   "outputs": [
    {
     "name": "stdout",
     "output_type": "stream",
     "text": [
      "Hello World!\n"
     ]
    }
   ],
   "source": [
    "# this is a code cell, it can be executed by shift+Enter\n",
    "print \"Hello World!\""
   ]
  },
  {
   "cell_type": "code",
   "execution_count": null,
   "metadata": {
    "collapsed": true
   },
   "outputs": [],
   "source": []
  }
 ],
 "metadata": {
  "kernelspec": {
   "display_name": "Python 2",
   "language": "python",
   "name": "python2"
  },
  "language_info": {
   "codemirror_mode": {
    "name": "ipython",
    "version": 2
   },
   "file_extension": ".py",
   "mimetype": "text/x-python",
   "name": "python",
   "nbconvert_exporter": "python",
   "pygments_lexer": "ipython2",
   "version": "2.7.11"
  }
 },
 "nbformat": 4,
 "nbformat_minor": 0
}
