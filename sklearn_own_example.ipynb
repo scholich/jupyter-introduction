{
 "cells": [
  {
   "cell_type": "markdown",
   "metadata": {},
   "source": [
    "# Digit recognition with scikit-learn\n",
    "\n",
    "Going a bit beyond the usual [tutorial](http://scikit-learn.org/stable/tutorial/basic/tutorial.html) I also tried writing my own digits and see if it can be recognized by the classifier.\n",
    "I did not try it for very long and got a 60% success rate, which I find not so bad."
   ]
  },
  {
   "cell_type": "code",
   "execution_count": 1,
   "metadata": {
    "collapsed": true
   },
   "outputs": [],
   "source": [
    "from sklearn import datasets\n",
    "from pylab import plt, np\n",
    "%matplotlib inline\n",
    "digits = datasets.load_digits()"
   ]
  },
  {
   "cell_type": "markdown",
   "metadata": {},
   "source": [
    "Create the [support vector machine](https://en.wikipedia.org/wiki/Support_vector_machine) classifier."
   ]
  },
  {
   "cell_type": "code",
   "execution_count": 2,
   "metadata": {
    "collapsed": true
   },
   "outputs": [],
   "source": [
    "from sklearn import svm\n",
    "clf = svm.SVC(gamma=0.001, C=100.)"
   ]
  },
  {
   "cell_type": "markdown",
   "metadata": {},
   "source": [
    "We fit the model to almost all data, leaving only one poor guy out."
   ]
  },
  {
   "cell_type": "code",
   "execution_count": 3,
   "metadata": {
    "collapsed": false
   },
   "outputs": [
    {
     "data": {
      "text/plain": [
       "SVC(C=100.0, cache_size=200, class_weight=None, coef0=0.0, degree=3,\n",
       "  gamma=0.001, kernel='rbf', max_iter=-1, probability=False,\n",
       "  random_state=None, shrinking=True, tol=0.001, verbose=False)"
      ]
     },
     "execution_count": 3,
     "metadata": {},
     "output_type": "execute_result"
    }
   ],
   "source": [
    "clf.fit(digits.data[:-1], digits.target[:-1])  "
   ]
  },
  {
   "cell_type": "markdown",
   "metadata": {},
   "source": [
    "Lets see if the one left out is predicted correctly now."
   ]
  },
  {
   "cell_type": "code",
   "execution_count": 4,
   "metadata": {
    "collapsed": false
   },
   "outputs": [
    {
     "name": "stdout",
     "output_type": "stream",
     "text": [
      "[ True]\n"
     ]
    }
   ],
   "source": [
    "print clf.predict(digits.data[-1:]) == digits.target[-1]"
   ]
  },
  {
   "cell_type": "markdown",
   "metadata": {},
   "source": [
    "Helas!\n",
    "\n",
    "# Using my own handwritten digits as a test\n",
    "\n",
    "So in a next step I wrote down some digits myself. Let's read those handwritten digits and convert them to 8x8 matrices as they were used to train our classifier."
   ]
  },
  {
   "cell_type": "code",
   "execution_count": 26,
   "metadata": {
    "collapsed": true
   },
   "outputs": [],
   "source": [
    "from skimage.io import imread\n",
    "from scipy.misc import imresize\n",
    "from sklearn.datasets.base import Bunch"
   ]
  },
  {
   "cell_type": "code",
   "execution_count": 32,
   "metadata": {
    "collapsed": false
   },
   "outputs": [],
   "source": [
    "my_digits = Bunch()\n",
    "my_digits.images = []\n",
    "my_digits.target = []\n",
    "my_digits.data = []\n",
    "size = (8, 8)\n",
    "for i in range(10):\n",
    "    # take mean over color channels\n",
    "    im = np.mean(imread('my_digits/{}.png'.format(i)), axis=2)\n",
    "    im = np.array(imresize(im, size), dtype=float)\n",
    "    # invert\n",
    "    im = np.max(im) - im\n",
    "#     print im\n",
    "    # rescale to 16 in integer\n",
    "    im = (im - np.min(im))\n",
    "    im /= np.max(im)\n",
    "    im[im < 0.2] = 0.0\n",
    "    im *= 16\n",
    "    im = np.array(im, dtype=int)\n",
    "    my_digits.images.append(im)\n",
    "    my_digits.target.append(i)\n",
    "    my_digits.data.append(im.reshape(-1))"
   ]
  },
  {
   "cell_type": "markdown",
   "metadata": {},
   "source": [
    "I have to admit that my digits are of very poor quality. Maybe some further image manipulation can improve the result.\n",
    "But I guess the main reason is the low resolution of the training data. If it would be higher I expect it to yield much better results."
   ]
  },
  {
   "cell_type": "code",
   "execution_count": 33,
   "metadata": {
    "collapsed": false,
    "scrolled": true
   },
   "outputs": [
    {
     "data": {
      "text/plain": [
       "<matplotlib.image.AxesImage at 0xab00908>"
      ]
     },
     "execution_count": 33,
     "metadata": {},
     "output_type": "execute_result"
    },
    {
     "data": {
      "image/png": "[encoded data removed]",
      "text/plain": [
       "<matplotlib.figure.Figure at 0x6e56e10>"
      ]
     },
     "metadata": {},
     "output_type": "display_data"
    }
   ],
   "source": [
    "plt.imshow(my_digits.images[9], cmap='gray_r', interpolation='none')"
   ]
  },
  {
   "cell_type": "code",
   "execution_count": 29,
   "metadata": {
    "collapsed": false
   },
   "outputs": [
    {
     "name": "stdout",
     "output_type": "stream",
     "text": [
      "[4 1 2 3 4 4 4 7 8 1]\n",
      "[False  True  True  True  True False False  True  True False]\n"
     ]
    }
   ],
   "source": [
    "print clf.predict(my_digits.data)\n",
    "print clf.predict(my_digits.data) == my_digits.target"
   ]
  },
  {
   "cell_type": "markdown",
   "metadata": {},
   "source": [
    "So with little effort I got a success rate of 60%.\n",
    "Interestingly all wrong ones are classified as \"4\" with the exception of my \"9\".\n",
    "\n",
    "Note that for the data set itself the success rate is much higher.\n",
    "http://scikit-learn.org/stable/auto_examples/classification/plot_digits_classification.html\n",
    "\n",
    "    Confusion matrix:\n",
    "    [[87  0  0  0  1  0  0  0  0  0]\n",
    "     [ 0 88  1  0  0  0  0  0  1  1]\n",
    "     [ 0  0 85  1  0  0  0  0  0  0]\n",
    "     [ 0  0  0 79  0  3  0  4  5  0]\n",
    "     [ 0  0  0  0 88  0  0  0  0  4]\n",
    "     [ 0  0  0  0  0 88  1  0  0  2]\n",
    "     [ 0  1  0  0  0  0 90  0  0  0]\n",
    "     [ 0  0  0  0  0  1  0 88  0  0]\n",
    "     [ 0  0  0  0  0  0  0  0 88  0]\n",
    "     [ 0  0  0  1  0  1  0  0  0 90]]"
   ]
  },
  {
   "cell_type": "code",
   "execution_count": null,
   "metadata": {
    "collapsed": true
   },
   "outputs": [],
   "source": []
  }
 ],
 "metadata": {
  "kernelspec": {
   "display_name": "Python 2",
   "language": "python",
   "name": "python2"
  },
  "language_info": {
   "codemirror_mode": {
    "name": "ipython",
    "version": 2
   },
   "file_extension": ".py",
   "mimetype": "text/x-python",
   "name": "python",
   "nbconvert_exporter": "python",
   "pygments_lexer": "ipython2",
   "version": "2.7.11"
  }
 },
 "nbformat": 4,
 "nbformat_minor": 0
}
